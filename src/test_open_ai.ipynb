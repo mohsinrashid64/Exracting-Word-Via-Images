{
 "cells": [
  {
   "cell_type": "markdown",
   "metadata": {},
   "source": [
    "## Importing Libraries"
   ]
  },
  {
   "cell_type": "code",
   "execution_count": 1,
   "metadata": {},
   "outputs": [],
   "source": [
    "from openai import OpenAI\n",
    "import config"
   ]
  },
  {
   "cell_type": "markdown",
   "metadata": {},
   "source": [
    "## Setting OpenAI API Key"
   ]
  },
  {
   "cell_type": "code",
   "execution_count": 2,
   "metadata": {},
   "outputs": [],
   "source": [
    "client = OpenAI(\n",
    "  api_key=config.OPENAI_API_KEY,\n",
    ")"
   ]
  },
  {
   "cell_type": "markdown",
   "metadata": {},
   "source": [
    "## Testing "
   ]
  },
  {
   "cell_type": "code",
   "execution_count": 10,
   "metadata": {},
   "outputs": [
    {
     "name": "stdout",
     "output_type": "stream",
     "text": [
      "Choice(finish_reason='stop', index=0, logprobs=None, message=ChatCompletionMessage(content='Here is the data extracted from the image in JSON format:\\n\\n```json\\n{\\n  \"Balance Date\": \"31/03/1998\",\\n  \"Cash\": \"$3,000\",\\n  \"Bank\": \"Mars Galactic Bank\",\\n  \"Product List\": [\\n    {\\n      \"Product Name\": \"Apple\",\\n      \"Quantity\": 36,\\n      \"Delivery Charges\": \"$10\",\\n      \"Cost\": \"$1\"\\n    },\\n    {\\n      \"Product Name\": \"Mouse\",\\n      \"Quantity\": 5,\\n      \"Delivery Charges\": \"$2\",\\n      \"Cost\": \"$5\"\\n    }\\n  ]\\n}\\n```', role='assistant', function_call=None, tool_calls=None))\n"
     ]
    }
   ],
   "source": [
    "response = client.chat.completions.create(\n",
    "  model=\"gpt-4-turbo\",\n",
    "  messages=[\n",
    "    {\n",
    "      \"role\": \"system\",\n",
    "      \"content\": \"You are an experienced mobile developer, a web scraper, and an expert in image processing and generative AI. You will be provided with an image, which could be a screenshot of a document or PDF, or it could contain handwritten text. Your task is to extract all of the relevant data from the image and return it in a specified format.\"\n",
    "    },\n",
    "    {\n",
    "      \"role\": \"user\",\n",
    "      \"content\": [{\"type\":\"text\", \n",
    "                   \"text\":\"What: Please help me extract the textual pieces of information from the image provided.\\n\\nWho: I am a professional Mobile application developer in Flutter.\\n\\nWhy: This question originates from a company that makes mobile applications. They are making an e-commerce app and they intend to add a feature in their app that allows the user to upload images and use generative AI to extract the relevant data from the image.\\n\\nWhich: The data you are supposed to extract from the image is 'Balance Sheet Date', 'Cash', 'Bank', 'Product List' (this could be more than one and have the following attributes): 'Product Name', 'Quantity', 'Delivery Charges', and 'Cost'. The wording of the aforementioned fields may differ so extract according to the meaning. Please ignore anything else.\\n\\nHow: Finally, return the data as a JSON response.\"\n",
    "                   },\n",
    "                   {\n",
    "                      \"type\": \"image_url\",\n",
    "                      \"image_url\": {\n",
    "                        \"url\": \"https://i.imgur.com/tvsgUl9.jpg\"}\n",
    "                   }\n",
    "      ]\n",
    "    }\n",
    "  ],\n",
    "  max_tokens=1000,\n",
    ")\n"
   ]
  },
  {
   "cell_type": "markdown",
   "metadata": {},
   "source": [
    "## Displaying The Results"
   ]
  },
  {
   "cell_type": "code",
   "execution_count": 11,
   "metadata": {},
   "outputs": [
    {
     "name": "stdout",
     "output_type": "stream",
     "text": [
      "Here is the data extracted from the image in JSON format:\n",
      "\n",
      "```json\n",
      "{\n",
      "  \"Balance Date\": \"31/03/1998\",\n",
      "  \"Cash\": \"$3,000\",\n",
      "  \"Bank\": \"Mars Galactic Bank\",\n",
      "  \"Product List\": [\n",
      "    {\n",
      "      \"Product Name\": \"Apple\",\n",
      "      \"Quantity\": 36,\n",
      "      \"Delivery Charges\": \"$10\",\n",
      "      \"Cost\": \"$1\"\n",
      "    },\n",
      "    {\n",
      "      \"Product Name\": \"Mouse\",\n",
      "      \"Quantity\": 5,\n",
      "      \"Delivery Charges\": \"$2\",\n",
      "      \"Cost\": \"$5\"\n",
      "    }\n",
      "  ]\n",
      "}\n",
      "```\n"
     ]
    }
   ],
   "source": [
    "print(response.choices[0].message.content)"
   ]
  },
  {
   "cell_type": "code",
   "execution_count": null,
   "metadata": {},
   "outputs": [],
   "source": []
  },
  {
   "cell_type": "code",
   "execution_count": 25,
   "metadata": {},
   "outputs": [],
   "source": [
    "response = client.chat.completions.create(\n",
    "  model=\"gpt-4-turbo\",\n",
    "  messages=[\n",
    "    {\n",
    "      \"role\": \"system\",\n",
    "      \"content\": \"You are an experienced mobile developer, a web scraper, and an expert in image processing and generative AI. You will be provided with an image, which could be a screenshot of a document or PDF, or it could contain handwritten text. Your task is to extract all of the relevant data from the image and return it in a specified format.\"\n",
    "    },\n",
    "    {\n",
    "      \"role\": \"user\",\n",
    "      \"content\": [{\"type\":\"text\", \n",
    "                   \"text\":\"What: Please help me extract the textual pieces of information from the image provided.\\n\\nWho: I am a professional Mobile application developer in Flutter.\\n\\nWhy: This question originates from a company that makes mobile applications. They are making an e-commerce app and they intend to add a feature in their app that allows the user to upload images and use generative AI to extract the relevant data from the image.\\n\\nWhich: The data you are supposed to extract from the image is 'Balance Sheet Date', 'Cash', 'Bank', 'Product List' (this could be more than one and have the following attributes): 'Product Name', 'Quantity', 'Delivery Charges', and 'Cost'. The wording of the aforementioned fields may differ so extract according to the meaning. Please ignore anything else.\\n\\nHow: Finally, return the data as a JSON response.\"\n",
    "                   },\n",
    "                   {\n",
    "                      \"type\": \"image_url\",\n",
    "                      \"image_url\": {\n",
    "                        \"url\": \"https://i.imgur.com/tvsgUl9.jpg\"}\n",
    "                   }\n",
    "      ]\n",
    "    }\n",
    "  ],\n",
    "  max_tokens=1000,\n",
    ")\n"
   ]
  },
  {
   "cell_type": "code",
   "execution_count": 26,
   "metadata": {},
   "outputs": [
    {
     "name": "stdout",
     "output_type": "stream",
     "text": [
      "```json\n",
      "{\n",
      "  \"Balance Sheet Date\": \"31/03/1998\",\n",
      "  \"Cash\": \"$3,000\",\n",
      "  \"Bank\": \"Mars Galactic Bank\",\n",
      "  \"Product List\": [\n",
      "    {\n",
      "      \"Product Name\": \"Apple\",\n",
      "      \"Quantity\": 36,\n",
      "      \"Delivery Charges\": \"$10\",\n",
      "      \"Cost\": \"$1\"\n",
      "    },\n",
      "    {\n",
      "      \"Product Name\": \"Mouse\",\n",
      "      \"Quantity\": 5,\n",
      "      \"Delivery Charges\": \"$2\",\n",
      "      \"Cost\": \"$5\"\n",
      "    }\n",
      "  ]\n",
      "}\n",
      "```\n"
     ]
    }
   ],
   "source": [
    "print(response.choices[0].message.content)"
   ]
  },
  {
   "cell_type": "markdown",
   "metadata": {},
   "source": [
    "## URL Correction"
   ]
  },
  {
   "cell_type": "code",
   "execution_count": null,
   "metadata": {},
   "outputs": [],
   "source": [
    "import base64\n",
    "import requests\n",
    "\n",
    "\n",
    "# Function to encode the image\n",
    "def encode_image(image_path):\n",
    "  with open(image_path, \"rb\") as image_file:\n",
    "    return base64.b64encode(image_file.read()).decode('utf-8')\n",
    "\n",
    "# Path to your image\n",
    "image_path = \"data/bank_sheet_2.jpg\"\n",
    "\n",
    "# Getting the base64 string\n",
    "base64_image = encode_image(image_path)\n",
    "\n",
    "headers = {\n",
    "  \"Content-Type\": \"application/json\",\n",
    "  \"Authorization\": f\"Bearer {config.OPENAI_API_KEY}\"\n",
    "}\n",
    "\n",
    "payload = {\n",
    "  \"model\": \"gpt-4-turbo\",\n",
    "  \"messages\": [\n",
    "    {\n",
    "      \"role\": \"system\",\n",
    "      \"content\": \"You are an experienced mobile developer, a web scraper, and an expert in image processing and generative AI. You will be provided with an image, which could be a screenshot of a document or PDF, or it could contain handwritten text. Your task is to extract all of the relevant data from the image and return it in a specified format.\"\n",
    "    },\n",
    "    {\n",
    "      \"role\": \"user\",\n",
    "      \"content\": [{\"type\":\"text\", \n",
    "                   \"text\":\"What: Please help me extract the textual pieces of information from the image provided.\\n\\nWho: I am a professional Mobile application developer in Flutter.\\n\\nWhy: This question originates from a company that makes mobile applications. They are making an e-commerce app and they intend to add a feature in their app that allows the user to upload images and use generative AI to extract the relevant data from the image.\\n\\nWhich: The data you are supposed to extract from the image is 'Balance Sheet Date', 'Cash', 'Bank', 'Product List' (this could be more than one and have the following attributes): 'Product Name', 'Quantity', 'Delivery Charges', and 'Cost'. The wording of the aforementioned fields may differ so extract according to the meaning. Please ignore anything else.\\n\\nHow: Finally, return the data as a JSON response.\"\n",
    "                   },\n",
    "                   {\n",
    "                      \"type\": \"image_url\",\n",
    "                      \"image_url\": {\n",
    "                      \"url\": f\"data:image/jpg;base64,{base64_image}\"\n",
    "                      }                     \n",
    "                   }\n",
    "      ]\n",
    "    }\n",
    "  ],\n",
    "  \"max_tokens\": 300\n",
    "}\n",
    "\n",
    "response = requests.post(\"https://api.openai.com/v1/chat/completions\", headers=headers, json=payload)\n",
    "\n",
    "print(response.json())"
   ]
  },
  {
   "cell_type": "code",
   "execution_count": null,
   "metadata": {},
   "outputs": [],
   "source": [
    "print(response.json()['choices'][0]['message']['content'])"
   ]
  },
  {
   "cell_type": "code",
   "execution_count": null,
   "metadata": {},
   "outputs": [],
   "source": []
  },
  {
   "cell_type": "code",
   "execution_count": 6,
   "metadata": {},
   "outputs": [
    {
     "name": "stdout",
     "output_type": "stream",
     "text": [
      "data/bank_sheet\n",
      "File type: .png\n"
     ]
    }
   ],
   "source": [
    "import os\n",
    "\n",
    "def extract_file_type(file_path):\n",
    "    x, file_extension = os.path.splitext(file_path)\n",
    "    print(x)\n",
    "    return file_extension\n",
    "\n",
    "# Example usage:\n",
    "file_path = \"data/bank_sheet.png\"\n",
    "file_type = extract_file_type(file_path)\n",
    "print(\"File type:\", file_type)\n"
   ]
  },
  {
   "cell_type": "code",
   "execution_count": 8,
   "metadata": {},
   "outputs": [
    {
     "name": "stdout",
     "output_type": "stream",
     "text": [
      "data/bank_sheet\n"
     ]
    },
    {
     "data": {
      "text/plain": [
       "'data:image/.png;base64'"
      ]
     },
     "execution_count": 8,
     "metadata": {},
     "output_type": "execute_result"
    }
   ],
   "source": [
    "f\"data:image/\"+ extract_file_type(file_path) + f\";base64\""
   ]
  },
  {
   "cell_type": "code",
   "execution_count": 1,
   "metadata": {},
   "outputs": [
    {
     "name": "stdout",
     "output_type": "stream",
     "text": [
      "{\n",
      "    \"last_balance_sheet_date\": \"January 31, 2024\",\n",
      "    \"cash_on_hand\": \"$10,000\",\n",
      "    \"bank_name\": \"First National Bank\",\n",
      "    \"bank_balance\": \"$50,000\",\n",
      "    \"list_of_products\": [\n",
      "        {\n",
      "            \"product_name\": \"Widget A\",\n",
      "            \"product_cost\": \"$10\",\n",
      "            \"quantity\": \"100\",\n",
      "            \"delivery_charges\": \"$5\"\n",
      "        },\n",
      "        {\n",
      "            \"product_name\": \"Widget B\",\n",
      "            \"product_cost\": \"$20\",\n",
      "            \"quantity\": \"50\",\n",
      "            \"delivery_charges\": \"$8\"\n",
      "        },\n",
      "        {\n",
      "            \"product_name\": \"Widget C\",\n",
      "            \"product_cost\": \"$15\",\n",
      "            \"quantity\": \"75\",\n",
      "            \"delivery_charges\": \"$6\"\n",
      "        }\n",
      "    ]\n",
      "}\n"
     ]
    }
   ],
   "source": [
    "import json\n",
    "\n",
    "# JSON response string\n",
    "json_response = \"{\\n\\t\\\"last_balance_sheet_date\\\": \\\"January 31, 2024\\\",\\n\\t\\\"cash_on_hand\\\": \\\"$10,000\\\",\\n\\t\\\"bank_name\\\": \\\"First National Bank\\\",\\n\\t\\\"bank_balance\\\": \\\"$50,000\\\",\\n\\t\\\"list_of_products\\\": [\\n\\t\\t{\\n\\t\\t\\t\\\"product_name\\\": \\\"Widget A\\\",\\n\\t\\t\\t\\\"product_cost\\\": \\\"$10\\\",\\n\\t\\t\\t\\\"quantity\\\": \\\"100\\\",\\n\\t\\t\\t\\\"delivery_charges\\\": \\\"$5\\\"\\n\\t\\t},\\n\\t\\t{\\n\\t\\t\\t\\\"product_name\\\": \\\"Widget B\\\",\\n\\t\\t\\t\\\"product_cost\\\": \\\"$20\\\",\\n\\t\\t\\t\\\"quantity\\\": \\\"50\\\",\\n\\t\\t\\t\\\"delivery_charges\\\": \\\"$8\\\"\\n\\t\\t},\\n\\t\\t{\\n\\t\\t\\t\\\"product_name\\\": \\\"Widget C\\\",\\n\\t\\t\\t\\\"product_cost\\\": \\\"$15\\\",\\n\\t\\t\\t\\\"quantity\\\": \\\"75\\\",\\n\\t\\t\\t\\\"delivery_charges\\\": \\\"$6\\\"\\n\\t\\t}\\n\\t]\\n}\"\n",
    "\n",
    "# Parse JSON string\n",
    "data = json.loads(json_response)\n",
    "\n",
    "# Print formatted JSON\n",
    "print(json.dumps(data, indent=4))\n"
   ]
  },
  {
   "cell_type": "code",
   "execution_count": null,
   "metadata": {},
   "outputs": [],
   "source": []
  },
  {
   "cell_type": "code",
   "execution_count": 2,
   "metadata": {},
   "outputs": [
    {
     "name": "stdout",
     "output_type": "stream",
     "text": [
      "{\n",
      "    \"last_balance_sheet_date\": \"31/03/1998\",\n",
      "    \"cash_on_hand\": \"$3,000\",\n",
      "    \"bank_name\": \"Mars Galactic Bank\",\n",
      "    \"bank_balance\": \"N/A\",\n",
      "    \"list_of_products\": [\n",
      "        {\n",
      "            \"product_name\": \"Apple\",\n",
      "            \"product_cost\": \"$1\",\n",
      "            \"quantity\": \"36\",\n",
      "            \"delivery_charges\": \"$10\"\n",
      "        },\n",
      "        {\n",
      "            \"product_name\": \"Mouse\",\n",
      "            \"product_cost\": \"$5\",\n",
      "            \"quantity\": \"5\",\n",
      "            \"delivery_charges\": \"$2\"\n",
      "        }\n",
      "    ]\n",
      "}\n"
     ]
    }
   ],
   "source": [
    "import json\n",
    "\n",
    "# JSON response string\n",
    "json_response = \"{\\n\\t\\\"last_balance_sheet_date\\\": \\\"31/03/1998\\\",\\n\\t\\\"cash_on_hand\\\": \\\"$3,000\\\",\\n\\t\\\"bank_name\\\": \\\"Mars Galactic Bank\\\",\\n\\t\\\"bank_balance\\\": \\\"N/A\\\",\\n\\t\\\"list_of_products\\\": [\\n\\t\\t{\\n\\t\\t\\t\\\"product_name\\\": \\\"Apple\\\",\\n\\t\\t\\t\\\"product_cost\\\": \\\"$1\\\",\\n\\t\\t\\t\\\"quantity\\\": \\\"36\\\",\\n\\t\\t\\t\\\"delivery_charges\\\": \\\"$10\\\"\\n\\t\\t},\\n\\t\\t{\\n\\t\\t\\t\\\"product_name\\\": \\\"Mouse\\\",\\n\\t\\t\\t\\\"product_cost\\\": \\\"$5\\\",\\n\\t\\t\\t\\\"quantity\\\": \\\"5\\\",\\n\\t\\t\\t\\\"delivery_charges\\\": \\\"$2\\\"\\n\\t\\t}\\n\\t]\\n}\"\n",
    "\n",
    "# Parse JSON string\n",
    "data = json.loads(json_response)\n",
    "\n",
    "# Print formatted JSON\n",
    "print(json.dumps(data, indent=4))\n"
   ]
  },
  {
   "cell_type": "code",
   "execution_count": null,
   "metadata": {},
   "outputs": [],
   "source": []
  },
  {
   "cell_type": "code",
   "execution_count": 6,
   "metadata": {},
   "outputs": [],
   "source": [
    "import json\n",
    "\n",
    "# JSON response string\n",
    "json_response = \"{\\n\\t\\\"last_balance_sheet_date\\\": \\\"January 31, 2024\\\",\\n\\t\\\"cash_on_hand\\\": \\\"$10,000\\\",\\n\\t\\\"bank_name\\\": \\\"First National Bank\\\",\\n\\t\\\"bank_balance\\\": \\\"$50,000\\\",\\n\\t\\\"list_of_products\\\": [\\n\\t\\t{\\n\\t\\t\\t\\\"product_name\\\": \\\"Widget A\\\",\\n\\t\\t\\t\\\"product_cost\\\": \\\"$10\\\",\\n\\t\\t\\t\\\"quantity\\\": \\\"100\\\",\\n\\t\\t\\t\\\"delivery_charges\\\": \\\"$5\\\"\\n\\t\\t},\\n\\t\\t{\\n\\t\\t\\t\\\"product_name\\\": \\\"Widget B\\\",\\n\\t\\t\\t\\\"product_cost\\\": \\\"$20\\\",\\n\\t\\t\\t\\\"quantity\\\": \\\"50\\\",\\n\\t\\t\\t\\\"delivery_charges\\\": \\\"$8\\\"\\n\\t\\t},\\n\\t\\t{\\n\\t\\t\\t\\\"product_name\\\": \\\"Widget C\\\",\\n\\t\\t\\t\\\"product_cost\\\": \\\"$15\\\",\\n\\t\\t\\t\\\"quantity\\\": \\\"75\\\",\\n\\t\\t\\t\\\"delivery_charges\\\": \\\"$6\\\"\\n\\t\\t}\\n\\t]\\n}\"\n",
    "\n",
    "# Parse JSON string\n",
    "data = json.loads(json_response)\n",
    "\n",
    "# Write formatted JSON data to a file\n",
    "with open('output.json', 'w') as f:\n",
    "    json.dump(data, f, indent=4)"
   ]
  },
  {
   "cell_type": "code",
   "execution_count": 10,
   "metadata": {},
   "outputs": [],
   "source": [
    "\n",
    "import os\n",
    "import config\n",
    "from utils import encode_image, extract_file_type\n",
    "import requests\n",
    "from dotenv import load_dotenv\n",
    "import json\n",
    "load_dotenv()\n",
    "\n",
    "\n",
    "file_path = 'data/bank_sheet.png'\n",
    "\n",
    "\n",
    "base64_image = encode_image(file_path)\n",
    "\n",
    "headers = {\n",
    "\"Content-Type\": \"application/json\",\n",
    "\"Authorization\": f\"Bearer {os.environ.get('OPENAI_API_KEY')}\"\n",
    "}\n",
    "\n",
    "payload = {\n",
    "    'model':\"gpt-4-turbo\",\n",
    "    'messages': config.PROMPT + [{\n",
    "    \"role\": \"user\",\n",
    "    \"content\": [{\n",
    "        \"type\": \"image_url\",\n",
    "        \"image_url\": {\n",
    "            \"url\": f\"data:image/\" + extract_file_type(file_path) + f\";base64,{base64_image}\"\n",
    "        }\n",
    "    }]\n",
    "}],\n",
    "    'max_tokens':1000,\n",
    "}\n",
    "response = requests.post(\"https://api.openai.com/v1/chat/completions\", headers=headers, json=payload)\n",
    "\n",
    "with open('../output.json', 'w') as f:\n",
    "    json.dump(response.json()['choices'][0]['message']['content'], f, indent=4)\n"
   ]
  },
  {
   "cell_type": "code",
   "execution_count": 12,
   "metadata": {},
   "outputs": [],
   "source": [
    "# print(response.json()['choices'][0]['message']['content'])"
   ]
  },
  {
   "cell_type": "code",
   "execution_count": 9,
   "metadata": {},
   "outputs": [],
   "source": [
    "import json\n",
    "\n",
    "# JSON response string\n",
    "json_response = response.json()['choices'][0]['message']['content']\n",
    "\n",
    "# Parse JSON string into a Python dictionary\n",
    "data = json.loads(json_response)\n",
    "\n",
    "# Write formatted JSON data to a file\n",
    "with open('output.json', 'w') as f:\n",
    "    json.dump(data, f, indent=4)\n"
   ]
  },
  {
   "cell_type": "code",
   "execution_count": null,
   "metadata": {},
   "outputs": [],
   "source": []
  },
  {
   "cell_type": "code",
   "execution_count": 3,
   "metadata": {},
   "outputs": [
    {
     "ename": "SyntaxError",
     "evalue": "EOL while scanning string literal (831864081.py, line 1)",
     "output_type": "error",
     "traceback": [
      "\u001b[1;36m  Cell \u001b[1;32mIn[3], line 1\u001b[1;36m\u001b[0m\n\u001b[1;33m    print(r\"White\u001b[0m\n\u001b[1;37m                 ^\u001b[0m\n\u001b[1;31mSyntaxError\u001b[0m\u001b[1;31m:\u001b[0m EOL while scanning string literal\n"
     ]
    }
   ],
   "source": [
    "print(r\"White\n",
    "      \")\n"
   ]
  },
  {
   "cell_type": "code",
   "execution_count": null,
   "metadata": {},
   "outputs": [],
   "source": [
    "this   is \n",
    "my sent \n",
    "ence"
   ]
  }
 ],
 "metadata": {
  "kernelspec": {
   "display_name": ".venv",
   "language": "python",
   "name": "python3"
  },
  "language_info": {
   "codemirror_mode": {
    "name": "ipython",
    "version": 3
   },
   "file_extension": ".py",
   "mimetype": "text/x-python",
   "name": "python",
   "nbconvert_exporter": "python",
   "pygments_lexer": "ipython3",
   "version": "3.8.10"
  }
 },
 "nbformat": 4,
 "nbformat_minor": 2
}
