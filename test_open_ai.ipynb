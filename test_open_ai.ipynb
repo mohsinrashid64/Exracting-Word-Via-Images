{
 "cells": [
  {
   "cell_type": "markdown",
   "metadata": {},
   "source": [
    "## Importing Libraries"
   ]
  },
  {
   "cell_type": "code",
   "execution_count": 1,
   "metadata": {},
   "outputs": [],
   "source": [
    "from openai import OpenAI\n",
    "import config"
   ]
  },
  {
   "cell_type": "markdown",
   "metadata": {},
   "source": [
    "## Setting OpenAI API Key"
   ]
  },
  {
   "cell_type": "code",
   "execution_count": 2,
   "metadata": {},
   "outputs": [],
   "source": [
    "client = OpenAI(\n",
    "  api_key=config.OPENAI_API_KEY,\n",
    ")"
   ]
  },
  {
   "cell_type": "markdown",
   "metadata": {},
   "source": [
    "## Testing "
   ]
  },
  {
   "cell_type": "code",
   "execution_count": 10,
   "metadata": {},
   "outputs": [
    {
     "name": "stdout",
     "output_type": "stream",
     "text": [
      "Choice(finish_reason='stop', index=0, logprobs=None, message=ChatCompletionMessage(content='Here is the data extracted from the image in JSON format:\\n\\n```json\\n{\\n  \"Balance Date\": \"31/03/1998\",\\n  \"Cash\": \"$3,000\",\\n  \"Bank\": \"Mars Galactic Bank\",\\n  \"Product List\": [\\n    {\\n      \"Product Name\": \"Apple\",\\n      \"Quantity\": 36,\\n      \"Delivery Charges\": \"$10\",\\n      \"Cost\": \"$1\"\\n    },\\n    {\\n      \"Product Name\": \"Mouse\",\\n      \"Quantity\": 5,\\n      \"Delivery Charges\": \"$2\",\\n      \"Cost\": \"$5\"\\n    }\\n  ]\\n}\\n```', role='assistant', function_call=None, tool_calls=None))\n"
     ]
    }
   ],
   "source": [
    "response = client.chat.completions.create(\n",
    "  model=\"gpt-4-turbo\",\n",
    "  messages=[\n",
    "    {\n",
    "      \"role\": \"system\",\n",
    "      \"content\": \"You are an experienced mobile developer, a web scraper, and an expert in image processing and generative AI. You will be provided with an image, which could be a screenshot of a document or PDF, or it could contain handwritten text. Your task is to extract all of the relevant data from the image and return it in a specified format.\"\n",
    "    },\n",
    "    {\n",
    "      \"role\": \"user\",\n",
    "      \"content\": [{\"type\":\"text\", \n",
    "                   \"text\":\"What: Please help me extract the textual pieces of information from the image provided.\\n\\nWho: I am a professional Mobile application developer in Flutter.\\n\\nWhy: This question originates from a company that makes mobile applications. They are making an e-commerce app and they intend to add a feature in their app that allows the user to upload images and use generative AI to extract the relevant data from the image.\\n\\nWhich: The data you are supposed to extract from the image is 'Balance Sheet Date', 'Cash', 'Bank', 'Product List' (this could be more than one and have the following attributes): 'Product Name', 'Quantity', 'Delivery Charges', and 'Cost'. The wording of the aforementioned fields may differ so extract according to the meaning. Please ignore anything else.\\n\\nHow: Finally, return the data as a JSON response.\"\n",
    "                   },\n",
    "                   {\n",
    "                      \"type\": \"image_url\",\n",
    "                      \"image_url\": {\n",
    "                        \"url\": \"https://i.imgur.com/tvsgUl9.jpg\"}\n",
    "                   }\n",
    "      ]\n",
    "    }\n",
    "  ],\n",
    "  max_tokens=1000,\n",
    ")\n"
   ]
  },
  {
   "cell_type": "markdown",
   "metadata": {},
   "source": [
    "## Displaying The Results"
   ]
  },
  {
   "cell_type": "code",
   "execution_count": 11,
   "metadata": {},
   "outputs": [
    {
     "name": "stdout",
     "output_type": "stream",
     "text": [
      "Here is the data extracted from the image in JSON format:\n",
      "\n",
      "```json\n",
      "{\n",
      "  \"Balance Date\": \"31/03/1998\",\n",
      "  \"Cash\": \"$3,000\",\n",
      "  \"Bank\": \"Mars Galactic Bank\",\n",
      "  \"Product List\": [\n",
      "    {\n",
      "      \"Product Name\": \"Apple\",\n",
      "      \"Quantity\": 36,\n",
      "      \"Delivery Charges\": \"$10\",\n",
      "      \"Cost\": \"$1\"\n",
      "    },\n",
      "    {\n",
      "      \"Product Name\": \"Mouse\",\n",
      "      \"Quantity\": 5,\n",
      "      \"Delivery Charges\": \"$2\",\n",
      "      \"Cost\": \"$5\"\n",
      "    }\n",
      "  ]\n",
      "}\n",
      "```\n"
     ]
    }
   ],
   "source": [
    "print(response.choices[0].message.content)"
   ]
  },
  {
   "cell_type": "code",
   "execution_count": null,
   "metadata": {},
   "outputs": [],
   "source": []
  },
  {
   "cell_type": "code",
   "execution_count": 25,
   "metadata": {},
   "outputs": [],
   "source": [
    "response = client.chat.completions.create(\n",
    "  model=\"gpt-4-turbo\",\n",
    "  messages=[\n",
    "    {\n",
    "      \"role\": \"system\",\n",
    "      \"content\": \"You are an experienced mobile developer, a web scraper, and an expert in image processing and generative AI. You will be provided with an image, which could be a screenshot of a document or PDF, or it could contain handwritten text. Your task is to extract all of the relevant data from the image and return it in a specified format.\"\n",
    "    },\n",
    "    {\n",
    "      \"role\": \"user\",\n",
    "      \"content\": [{\"type\":\"text\", \n",
    "                   \"text\":\"What: Please help me extract the textual pieces of information from the image provided.\\n\\nWho: I am a professional Mobile application developer in Flutter.\\n\\nWhy: This question originates from a company that makes mobile applications. They are making an e-commerce app and they intend to add a feature in their app that allows the user to upload images and use generative AI to extract the relevant data from the image.\\n\\nWhich: The data you are supposed to extract from the image is 'Balance Sheet Date', 'Cash', 'Bank', 'Product List' (this could be more than one and have the following attributes): 'Product Name', 'Quantity', 'Delivery Charges', and 'Cost'. The wording of the aforementioned fields may differ so extract according to the meaning. Please ignore anything else.\\n\\nHow: Finally, return the data as a JSON response.\"\n",
    "                   },\n",
    "                   {\n",
    "                      \"type\": \"image_url\",\n",
    "                      \"image_url\": {\n",
    "                        \"url\": \"https://i.imgur.com/tvsgUl9.jpg\"}\n",
    "                   }\n",
    "      ]\n",
    "    }\n",
    "  ],\n",
    "  max_tokens=1000,\n",
    ")\n"
   ]
  },
  {
   "cell_type": "code",
   "execution_count": 26,
   "metadata": {},
   "outputs": [
    {
     "name": "stdout",
     "output_type": "stream",
     "text": [
      "```json\n",
      "{\n",
      "  \"Balance Sheet Date\": \"31/03/1998\",\n",
      "  \"Cash\": \"$3,000\",\n",
      "  \"Bank\": \"Mars Galactic Bank\",\n",
      "  \"Product List\": [\n",
      "    {\n",
      "      \"Product Name\": \"Apple\",\n",
      "      \"Quantity\": 36,\n",
      "      \"Delivery Charges\": \"$10\",\n",
      "      \"Cost\": \"$1\"\n",
      "    },\n",
      "    {\n",
      "      \"Product Name\": \"Mouse\",\n",
      "      \"Quantity\": 5,\n",
      "      \"Delivery Charges\": \"$2\",\n",
      "      \"Cost\": \"$5\"\n",
      "    }\n",
      "  ]\n",
      "}\n",
      "```\n"
     ]
    }
   ],
   "source": [
    "print(response.choices[0].message.content)"
   ]
  },
  {
   "cell_type": "code",
   "execution_count": null,
   "metadata": {},
   "outputs": [],
   "source": [
    "response = client.chat.completions.create(\n",
    "  model=\"gpt-4-turbo\",\n",
    "  messages=[\n",
    "    {\n",
    "      \"role\": \"system\",\n",
    "      \"content\": \"You will provided with an image, the image will be document containing text, it could be text, doc or pdf, You will extract all of the relevant data from the image and return it in a format that is specified\"\n",
    "    },\n",
    "    {\n",
    "      \"role\": \"user\",\n",
    "      \"content\": [\n",
    "        { \n",
    "          \"type\": \"text\", \n",
    "          \"text\": \"Extract the data from the image. The data you are supposed to extract is the following, the wording of the data could be different from the following but the meaning should be the same:\\n1. Balance Date\\n2. Cash\\n3. Bank\\n4. Product List(this could be more than one and have the following attributes):\\n- Product Name\\n- Quantity\\n- Delivery Charges\\n- Cost. After All of this is done return the data as JSON\"\n",
    "        },\n",
    "        {\n",
    "          \"type\": \"image_url\",\n",
    "          \"image_url\": {\"url\": \"https://i.imgur.com/tvsgUl9.jpg\"},\n",
    "        },\n",
    "      ],\n",
    "    }\n",
    "  ],\n",
    "  max_tokens=1000,\n",
    ")\n",
    "\n",
    "print(response.choices[0])"
   ]
  },
  {
   "cell_type": "code",
   "execution_count": null,
   "metadata": {},
   "outputs": [],
   "source": []
  },
  {
   "cell_type": "code",
   "execution_count": null,
   "metadata": {},
   "outputs": [],
   "source": []
  },
  {
   "cell_type": "code",
   "execution_count": 30,
   "metadata": {},
   "outputs": [
    {
     "name": "stdout",
     "output_type": "stream",
     "text": [
      "{'id': 'chatcmpl-9FCBM565Ih8TcW8rYjOh9heB2MLNe', 'object': 'chat.completion', 'created': 1713408776, 'model': 'gpt-4-turbo-2024-04-09', 'choices': [{'index': 0, 'message': {'role': 'assistant', 'content': 'Here\\'s the extracted data in JSON format based on the provided image:\\n\\n```json\\n{\\n  \"Balance Sheet Date\": \"31/03/1998\",\\n  \"Cash\": \"$3,000\",\\n  \"Bank\": \"Mars Galactic Bank\",\\n  \"Product List\": [\\n    {\\n      \"Product Name\": \"Apple\",\\n      \"Quantity\": 36,\\n      \"Delivery Charges\": \"$10\",\\n      \"Cost\": \"$1\"\\n    },\\n    {\\n      \"Product Name\": \"Mouse\",\\n      \"Quantity\": 5,\\n      \"Delivery Charges\": \"$2\",\\n      \"Cost\": \"$5\"\\n    }\\n  ]\\n}\\n```'}, 'logprobs': None, 'finish_reason': 'stop'}], 'usage': {'prompt_tokens': 1352, 'completion_tokens': 129, 'total_tokens': 1481}, 'system_fingerprint': 'fp_67e6987839'}\n"
     ]
    }
   ],
   "source": [
    "import base64\n",
    "import requests\n",
    "\n",
    "\n",
    "# Function to encode the image\n",
    "def encode_image(image_path):\n",
    "  with open(image_path, \"rb\") as image_file:\n",
    "    return base64.b64encode(image_file.read()).decode('utf-8')\n",
    "\n",
    "# Path to your image\n",
    "image_path = \"data/bank_sheet_2.jpg\"\n",
    "\n",
    "# Getting the base64 string\n",
    "base64_image = encode_image(image_path)\n",
    "\n",
    "headers = {\n",
    "  \"Content-Type\": \"application/json\",\n",
    "  \"Authorization\": f\"Bearer {config.OPENAI_API_KEY}\"\n",
    "}\n",
    "\n",
    "payload = {\n",
    "  \"model\": \"gpt-4-turbo\",\n",
    "  \"messages\": [\n",
    "    {\n",
    "      \"role\": \"system\",\n",
    "      \"content\": \"You are an experienced mobile developer, a web scraper, and an expert in image processing and generative AI. You will be provided with an image, which could be a screenshot of a document or PDF, or it could contain handwritten text. Your task is to extract all of the relevant data from the image and return it in a specified format.\"\n",
    "    },\n",
    "    {\n",
    "      \"role\": \"user\",\n",
    "      \"content\": [{\"type\":\"text\", \n",
    "                   \"text\":\"What: Please help me extract the textual pieces of information from the image provided.\\n\\nWho: I am a professional Mobile application developer in Flutter.\\n\\nWhy: This question originates from a company that makes mobile applications. They are making an e-commerce app and they intend to add a feature in their app that allows the user to upload images and use generative AI to extract the relevant data from the image.\\n\\nWhich: The data you are supposed to extract from the image is 'Balance Sheet Date', 'Cash', 'Bank', 'Product List' (this could be more than one and have the following attributes): 'Product Name', 'Quantity', 'Delivery Charges', and 'Cost'. The wording of the aforementioned fields may differ so extract according to the meaning. Please ignore anything else.\\n\\nHow: Finally, return the data as a JSON response.\"\n",
    "                   },\n",
    "                   {\n",
    "                      \"type\": \"image_url\",\n",
    "                      \"image_url\": {\n",
    "                      \"url\": f\"data:image/jpg;base64,{base64_image}\"\n",
    "                      }                     \n",
    "                   }\n",
    "      ]\n",
    "    }\n",
    "  ],\n",
    "  \"max_tokens\": 300\n",
    "}\n",
    "\n",
    "response = requests.post(\"https://api.openai.com/v1/chat/completions\", headers=headers, json=payload)\n",
    "\n",
    "print(response.json())"
   ]
  },
  {
   "cell_type": "code",
   "execution_count": 32,
   "metadata": {},
   "outputs": [
    {
     "name": "stdout",
     "output_type": "stream",
     "text": [
      "{'id': 'chatcmpl-9FCBM565Ih8TcW8rYjOh9heB2MLNe', 'object': 'chat.completion', 'created': 1713408776, 'model': 'gpt-4-turbo-2024-04-09', 'choices': [{'index': 0, 'message': {'role': 'assistant', 'content': 'Here\\'s the extracted data in JSON format based on the provided image:\\n\\n```json\\n{\\n  \"Balance Sheet Date\": \"31/03/1998\",\\n  \"Cash\": \"$3,000\",\\n  \"Bank\": \"Mars Galactic Bank\",\\n  \"Product List\": [\\n    {\\n      \"Product Name\": \"Apple\",\\n      \"Quantity\": 36,\\n      \"Delivery Charges\": \"$10\",\\n      \"Cost\": \"$1\"\\n    },\\n    {\\n      \"Product Name\": \"Mouse\",\\n      \"Quantity\": 5,\\n      \"Delivery Charges\": \"$2\",\\n      \"Cost\": \"$5\"\\n    }\\n  ]\\n}\\n```'}, 'logprobs': None, 'finish_reason': 'stop'}], 'usage': {'prompt_tokens': 1352, 'completion_tokens': 129, 'total_tokens': 1481}, 'system_fingerprint': 'fp_67e6987839'}\n"
     ]
    }
   ],
   "source": [
    "print(response.json())"
   ]
  },
  {
   "cell_type": "code",
   "execution_count": 33,
   "metadata": {},
   "outputs": [
    {
     "name": "stdout",
     "output_type": "stream",
     "text": [
      "Here's the extracted data in JSON format based on the provided image:\n",
      "\n",
      "```json\n",
      "{\n",
      "  \"Balance Sheet Date\": \"31/03/1998\",\n",
      "  \"Cash\": \"$3,000\",\n",
      "  \"Bank\": \"Mars Galactic Bank\",\n",
      "  \"Product List\": [\n",
      "    {\n",
      "      \"Product Name\": \"Apple\",\n",
      "      \"Quantity\": 36,\n",
      "      \"Delivery Charges\": \"$10\",\n",
      "      \"Cost\": \"$1\"\n",
      "    },\n",
      "    {\n",
      "      \"Product Name\": \"Mouse\",\n",
      "      \"Quantity\": 5,\n",
      "      \"Delivery Charges\": \"$2\",\n",
      "      \"Cost\": \"$5\"\n",
      "    }\n",
      "  ]\n",
      "}\n",
      "```\n"
     ]
    }
   ],
   "source": [
    "print(response.json()['choices'][0]['message']['content'])"
   ]
  },
  {
   "cell_type": "code",
   "execution_count": null,
   "metadata": {},
   "outputs": [],
   "source": [
    "response = client.chat.completions.create(\n",
    "  model=\"gpt-4-turbo\",\n",
    "  messages=[\n",
    "    {\n",
    "      \"role\": \"system\",\n",
    "      \"content\": \"You are an experienced mobile developer, a web scraper, and an expert in image processing and generative AI. You will be provided with an image, which could be a screenshot of a document or PDF, or it could contain handwritten text. Your task is to extract all of the relevant data from the image and return it in a specified format.\"\n",
    "    },\n",
    "    {\n",
    "      \"role\": \"user\",\n",
    "      \"content\": [{\"type\":\"text\", \n",
    "                   \"text\":\"What: Please help me extract the textual pieces of information from the image provided.\\n\\nWho: I am a professional Mobile application developer in Flutter.\\n\\nWhy: This question originates from a company that makes mobile applications. They are making an e-commerce app and they intend to add a feature in their app that allows the user to upload images and use generative AI to extract the relevant data from the image.\\n\\nWhich: The data you are supposed to extract from the image is 'Balance Sheet Date', 'Cash', 'Bank', 'Product List' (this could be more than one and have the following attributes): 'Product Name', 'Quantity', 'Delivery Charges', and 'Cost'. The wording of the aforementioned fields may differ so extract according to the meaning. Please ignore anything else.\\n\\nHow: Finally, return the data as a JSON response.\"\n",
    "                   },\n",
    "                   {\n",
    "                      \"type\": \"image_url\",\n",
    "                      \"image_url\": {\n",
    "                      \"url\": f\"data:image/png;base64,{base64_image}\"\n",
    "                      }                     \n",
    "                   }\n",
    "      ]\n",
    "    }\n",
    "  ],\n",
    "  max_tokens=1000,\n",
    ")\n"
   ]
  }
 ],
 "metadata": {
  "kernelspec": {
   "display_name": ".venv",
   "language": "python",
   "name": "python3"
  },
  "language_info": {
   "codemirror_mode": {
    "name": "ipython",
    "version": 3
   },
   "file_extension": ".py",
   "mimetype": "text/x-python",
   "name": "python",
   "nbconvert_exporter": "python",
   "pygments_lexer": "ipython3",
   "version": "3.8.10"
  }
 },
 "nbformat": 4,
 "nbformat_minor": 2
}
