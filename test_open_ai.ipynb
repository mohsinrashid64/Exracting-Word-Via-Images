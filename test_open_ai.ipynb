{
 "cells": [
  {
   "cell_type": "markdown",
   "metadata": {},
   "source": [
    "## Importing Libraries"
   ]
  },
  {
   "cell_type": "code",
   "execution_count": 11,
   "metadata": {},
   "outputs": [],
   "source": [
    "from openai import OpenAI\n",
    "from dotenv import load_dotenv\n",
    "load_dotenv()\n",
    "import os\n"
   ]
  },
  {
   "cell_type": "code",
   "execution_count": 17,
   "metadata": {},
   "outputs": [
    {
     "name": "stdout",
     "output_type": "stream",
     "text": [
      "{'id': 'chatcmpl-9FiFNHR2fxHkaNyufqQrPCtRh8ivT', 'object': 'chat.completion', 'created': 1713532033, 'model': 'gpt-4-turbo-2024-04-09', 'choices': [{'index': 0, 'message': {'role': 'assistant', 'content': '**Product Purchase**\\nDate: Apr 12, 2024\\n\\n**Vendor Details:**\\nJS Auto Suppliers\\n5678 Oak Avenue\\nPortland, OR 97201\\n(503) 555-6789\\ninfo@jsautosuppliers.com\\n\\n**Business Details:**\\nAuto Parts Store\\n1234 Maple Street\\nSpringfield, IL 62701\\n(217) 555-1234\\ninfo@autopartsstore.com\\n\\n**Items Purchased:**\\n\\n| Item                  | Price (USD) | Qty | Add Tax | Total (USD) |\\n|-----------------------|-------------|-----|---------|-------------|\\n| Engine Oil (5W-30)    | 25.00       | 10  | 8%      | 220.00      |\\n| Brake Pads (Front)    | 50.00       | 5   | 8%      | 215.00      |\\n| Air Filter (Toyota Camry) | 15.00  | 20  | 8%      | 108.00      |\\n| Spark Plugs (Set of 4)| 20.00       | 8   | 8%      | 129.60      |\\n| Transmission Fluid (1 qt) | 10.00   | 15  | 8%      | 129.60      |\\n\\n**Sub Total:** 802.20\\n**Tax:** 64.18\\n**Total:** 866'}, 'logprobs': None, 'finish_reason': 'length'}], 'usage': {'prompt_tokens': 854, 'completion_tokens': 300, 'total_tokens': 1154}, 'system_fingerprint': 'fp_408f2ea9d0'}\n"
     ]
    }
   ],
   "source": [
    "import base64\n",
    "import requests\n",
    "\n",
    "\n",
    "# Function to encode the image\n",
    "def encode_image(image_path):\n",
    "  with open(image_path, \"rb\") as image_file:\n",
    "    return base64.b64encode(image_file.read()).decode('utf-8')\n",
    "\n",
    "# Path to your image\n",
    "image_path = \"D:\\DigiMark\\Exracting Word Via Images\\src\\data\\in1.png\"\n",
    "\n",
    "# Getting the base64 string\n",
    "base64_image = encode_image(image_path)\n",
    "\n",
    "headers = {\n",
    "  \"Content-Type\": \"application/json\",\n",
    "  \"Authorization\": f\"Bearer {os.environ.get('OPENAI_API_KEY')}\"\n",
    "}\n",
    "\n",
    "payload = {\n",
    "  \"model\": \"gpt-4-turbo\",\n",
    "  \"messages\": [\n",
    "    {\n",
    "      \"role\": \"system\",\n",
    "      \"content\": \"You are an experienced mobile developer, a web scraper, and an expert in image processing and generative AI. You will be provided with an image, which could be a screenshot of a document or PDF, or it could contain handwritten text. Your task is to extract all of the relevant data from the image and return it in a specified format.\"\n",
    "    },\n",
    "    {\n",
    "      \"role\": \"user\",\n",
    "      \"content\": [{  \n",
    "                    \"type\":\"text\",\n",
    "                    \"text\":\"please give me whatever text is in the image\"\n",
    "                  },\n",
    "                   {\n",
    "                      \"type\": \"image_url\",\n",
    "                      \"image_url\": {\n",
    "                      \"url\": f\"data:image/jpg;base64,{base64_image}\"\n",
    "                      }                     \n",
    "                   }\n",
    "      ]\n",
    "    }\n",
    "  ],\n",
    "  \"max_tokens\": 300\n",
    "}\n",
    "\n",
    "response = requests.post(\"https://api.openai.com/v1/chat/completions\", headers=headers, json=payload)\n",
    "\n",
    "print(response.json())"
   ]
  },
  {
   "cell_type": "code",
   "execution_count": null,
   "metadata": {},
   "outputs": [],
   "source": []
  },
  {
   "cell_type": "code",
   "execution_count": null,
   "metadata": {},
   "outputs": [],
   "source": []
  },
  {
   "cell_type": "code",
   "execution_count": 6,
   "metadata": {},
   "outputs": [],
   "source": [
    "import json\n",
    "\n",
    "# JSON response string\n",
    "json_response = \"{\\n\\t\\\"last_balance_sheet_date\\\": \\\"January 31, 2024\\\",\\n\\t\\\"cash_on_hand\\\": \\\"$10,000\\\",\\n\\t\\\"bank_name\\\": \\\"First National Bank\\\",\\n\\t\\\"bank_balance\\\": \\\"$50,000\\\",\\n\\t\\\"list_of_products\\\": [\\n\\t\\t{\\n\\t\\t\\t\\\"product_name\\\": \\\"Widget A\\\",\\n\\t\\t\\t\\\"product_cost\\\": \\\"$10\\\",\\n\\t\\t\\t\\\"quantity\\\": \\\"100\\\",\\n\\t\\t\\t\\\"delivery_charges\\\": \\\"$5\\\"\\n\\t\\t},\\n\\t\\t{\\n\\t\\t\\t\\\"product_name\\\": \\\"Widget B\\\",\\n\\t\\t\\t\\\"product_cost\\\": \\\"$20\\\",\\n\\t\\t\\t\\\"quantity\\\": \\\"50\\\",\\n\\t\\t\\t\\\"delivery_charges\\\": \\\"$8\\\"\\n\\t\\t},\\n\\t\\t{\\n\\t\\t\\t\\\"product_name\\\": \\\"Widget C\\\",\\n\\t\\t\\t\\\"product_cost\\\": \\\"$15\\\",\\n\\t\\t\\t\\\"quantity\\\": \\\"75\\\",\\n\\t\\t\\t\\\"delivery_charges\\\": \\\"$6\\\"\\n\\t\\t}\\n\\t]\\n}\"\n",
    "\n",
    "# Parse JSON string\n",
    "data = json.loads(json_response)\n",
    "\n",
    "# Write formatted JSON data to a file\n",
    "with open('output.json', 'w') as f:\n",
    "    json.dump(data, f, indent=4)"
   ]
  },
  {
   "cell_type": "code",
   "execution_count": 10,
   "metadata": {},
   "outputs": [],
   "source": [
    "\n",
    "import os\n",
    "import config\n",
    "from utils import encode_image, extract_file_type\n",
    "import requests\n",
    "from dotenv import load_dotenv\n",
    "import json\n",
    "load_dotenv()\n",
    "\n",
    "\n",
    "file_path = 'data/bank_sheet.png'\n",
    "\n",
    "\n",
    "base64_image = encode_image(file_path)\n",
    "\n",
    "headers = {\n",
    "\"Content-Type\": \"application/json\",\n",
    "\"Authorization\": f\"Bearer {os.environ.get('OPENAI_API_KEY')}\"\n",
    "}\n",
    "\n",
    "payload = {\n",
    "    'model':\"gpt-4-turbo\",\n",
    "    'messages': config.PROMPT + [{\n",
    "    \"role\": \"user\",\n",
    "    \"content\": [{\n",
    "        \"type\": \"image_url\",\n",
    "        \"image_url\": {\n",
    "            \"url\": f\"data:image/\" + extract_file_type(file_path) + f\";base64,{base64_image}\"\n",
    "        }\n",
    "    }]\n",
    "}],\n",
    "    'max_tokens':1000,\n",
    "}\n",
    "response = requests.post(\"https://api.openai.com/v1/chat/completions\", headers=headers, json=payload)\n",
    "\n",
    "with open('../output.json', 'w') as f:\n",
    "    json.dump(response.json()['choices'][0]['message']['content'], f, indent=4)\n"
   ]
  },
  {
   "cell_type": "code",
   "execution_count": 9,
   "metadata": {},
   "outputs": [],
   "source": [
    "import json\n",
    "\n",
    "json_response = response.json()['choices'][0]['message']['content']\n",
    "\n",
    "data = json.loads(json_response)\n",
    "\n",
    "with open('output.json', 'w') as f:\n",
    "    json.dump(data, f, indent=4)\n"
   ]
  },
  {
   "cell_type": "code",
   "execution_count": null,
   "metadata": {},
   "outputs": [],
   "source": [
    "\"\"\"\n",
    "What: Please help me extract the textual pieces of information from the image provided. The image you will receive will have data in tabular format, your job is to focus on the tabular data and ignore everything else.The desired output I want to receive is in JSON format and just this nothing else.\n",
    "\n",
    "Who: I am a professional Mobile application developer in Flutter.\n",
    "\n",
    "Why: This question originates from a company that makes mobile applications. They are making an e-commerce app and they intend to add a feature in their app that allows the user to upload images and use generative AI to extract the relevant data from the image.\n",
    "\n",
    "Which: Please observe the column names of the table as they are supposed to be key names in the JSON also populate each key with data provided with respect to each column.The data you are supposed to extract from the image is 'Item', 'Price(USD), 'Quantity', 'Add Tax', 'Total (USD)'. Please note that the wording of the column names may differ, please  extract them according to the context.Following is the template on how you should create the JSON:\n",
    "{\n",
    "{'Item':, \n",
    "'Price(USD):, \n",
    "'Quantity', \n",
    "'Add Tax',\n",
    " 'Total (USD)\n",
    "}\n",
    "}\n",
    "\n",
    "How: Finally, return the data as a JSON response and only JSON nothing else.\n",
    "\"\"\"\n"
   ]
  }
 ],
 "metadata": {
  "kernelspec": {
   "display_name": ".venv",
   "language": "python",
   "name": "python3"
  },
  "language_info": {
   "codemirror_mode": {
    "name": "ipython",
    "version": 3
   },
   "file_extension": ".py",
   "mimetype": "text/x-python",
   "name": "python",
   "nbconvert_exporter": "python",
   "pygments_lexer": "ipython3",
   "version": "3.8.10"
  }
 },
 "nbformat": 4,
 "nbformat_minor": 2
}
