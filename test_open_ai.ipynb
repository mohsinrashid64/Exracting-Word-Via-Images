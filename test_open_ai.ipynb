{
 "cells": [
  {
   "cell_type": "markdown",
   "metadata": {},
   "source": [
    "## Importing Libraries"
   ]
  },
  {
   "cell_type": "code",
   "execution_count": 1,
   "metadata": {},
   "outputs": [],
   "source": [
    "from openai import OpenAI\n",
    "import config"
   ]
  },
  {
   "cell_type": "markdown",
   "metadata": {},
   "source": [
    "## Setting OpenAI API Key"
   ]
  },
  {
   "cell_type": "code",
   "execution_count": 2,
   "metadata": {},
   "outputs": [],
   "source": [
    "client = OpenAI(\n",
    "  api_key=config.OPENAI_API_KEY,\n",
    ")"
   ]
  },
  {
   "cell_type": "markdown",
   "metadata": {},
   "source": [
    "## Testing "
   ]
  },
  {
   "cell_type": "code",
   "execution_count": 7,
   "metadata": {},
   "outputs": [],
   "source": [
    "def generate_text(prompt):\n",
    "    completion = client.chat.completions.create(\n",
    "    model=\"gpt-3.5-turbo\",\n",
    "    messages=[\n",
    "        {\"role\": \"system\", \"content\": \"You are a poetic assistant, skilled in explaining complex programming concepts with creative flair.\"},\n",
    "        {\"role\": \"user\", \"content\": \"Compose a poem that explains the concept of recursion in programming.\"}\n",
    "    ]\n",
    "    )\n",
    "    return completion.choices[0].message\n"
   ]
  },
  {
   "cell_type": "code",
   "execution_count": 8,
   "metadata": {},
   "outputs": [],
   "source": [
    "prompt = 'once upon a time'"
   ]
  },
  {
   "cell_type": "code",
   "execution_count": 9,
   "metadata": {},
   "outputs": [],
   "source": [
    "generated_text = generate_text(prompt)"
   ]
  },
  {
   "cell_type": "code",
   "execution_count": 10,
   "metadata": {},
   "outputs": [
    {
     "name": "stdout",
     "output_type": "stream",
     "text": [
      "ChatCompletionMessage(content=\"In the land of code, where logic reigns,\\nThere's a concept that forever remains.\\nRecursion, a mystical tale to be told,\\nA function's journey, both brave and bold.\\n\\nA function calls itself, oh what a delight,\\nAn endless loop, a recursive flight.\\nLike a mirror reflecting its own image,\\nRepetition with a purpose, no need for a scrimmage.\\n\\nDivide and conquer, the recursive way,\\nBreak down problems, bit by bit, day by day.\\nIn a dance of layers, deeper and deep,\\nA cascade of calls, a promise to keep.\\n\\nBase case, the anchor in this sea of code,\\nThe recursion's end, the final ode.\\nWith each call returning a bit of grace,\\nA path to solve problems, at a steady pace.\\n\\nSo embrace the beauty of recursion's art,\\nIn the world of programming, where it imparts.\\nA loop unlike any other, a story to be told,\\nRecursion, a tale of code, forever bold.\", role='assistant', function_call=None, tool_calls=None)\n"
     ]
    }
   ],
   "source": [
    "print(generated_text)"
   ]
  },
  {
   "cell_type": "code",
   "execution_count": null,
   "metadata": {},
   "outputs": [],
   "source": []
  },
  {
   "cell_type": "code",
   "execution_count": null,
   "metadata": {},
   "outputs": [],
   "source": []
  },
  {
   "cell_type": "code",
   "execution_count": 11,
   "metadata": {},
   "outputs": [
    {
     "name": "stdout",
     "output_type": "stream",
     "text": [
      "Help on method create in module openai.resources.chat.completions:\n",
      "\n",
      "create(*, messages: 'Iterable[ChatCompletionMessageParam]', model: \"Union[str, Literal[('gpt-4-turbo', 'gpt-4-turbo-2024-04-09', 'gpt-4-0125-preview', 'gpt-4-turbo-preview', 'gpt-4-1106-preview', 'gpt-4-vision-preview', 'gpt-4', 'gpt-4-0314', 'gpt-4-0613', 'gpt-4-32k', 'gpt-4-32k-0314', 'gpt-4-32k-0613', 'gpt-3.5-turbo', 'gpt-3.5-turbo-16k', 'gpt-3.5-turbo-0301', 'gpt-3.5-turbo-0613', 'gpt-3.5-turbo-1106', 'gpt-3.5-turbo-0125', 'gpt-3.5-turbo-16k-0613')]]\", frequency_penalty: 'Optional[float] | NotGiven' = NOT_GIVEN, function_call: 'completion_create_params.FunctionCall | NotGiven' = NOT_GIVEN, functions: 'Iterable[completion_create_params.Function] | NotGiven' = NOT_GIVEN, logit_bias: 'Optional[Dict[str, int]] | NotGiven' = NOT_GIVEN, logprobs: 'Optional[bool] | NotGiven' = NOT_GIVEN, max_tokens: 'Optional[int] | NotGiven' = NOT_GIVEN, n: 'Optional[int] | NotGiven' = NOT_GIVEN, presence_penalty: 'Optional[float] | NotGiven' = NOT_GIVEN, response_format: 'completion_create_params.ResponseFormat | NotGiven' = NOT_GIVEN, seed: 'Optional[int] | NotGiven' = NOT_GIVEN, stop: 'Union[Optional[str], List[str]] | NotGiven' = NOT_GIVEN, stream: 'Optional[Literal[False]] | Literal[True] | NotGiven' = NOT_GIVEN, temperature: 'Optional[float] | NotGiven' = NOT_GIVEN, tool_choice: 'ChatCompletionToolChoiceOptionParam | NotGiven' = NOT_GIVEN, tools: 'Iterable[ChatCompletionToolParam] | NotGiven' = NOT_GIVEN, top_logprobs: 'Optional[int] | NotGiven' = NOT_GIVEN, top_p: 'Optional[float] | NotGiven' = NOT_GIVEN, user: 'str | NotGiven' = NOT_GIVEN, extra_headers: 'Headers | None' = None, extra_query: 'Query | None' = None, extra_body: 'Body | None' = None, timeout: 'float | httpx.Timeout | None | NotGiven' = NOT_GIVEN) -> 'ChatCompletion | Stream[ChatCompletionChunk]' method of openai.resources.chat.completions.Completions instance\n",
      "\n"
     ]
    }
   ],
   "source": [
    "help(client.chat.completions.create)"
   ]
  },
  {
   "cell_type": "code",
   "execution_count": 25,
   "metadata": {},
   "outputs": [
    {
     "name": "stdout",
     "output_type": "stream",
     "text": [
      "Choice(finish_reason='length', index=0, logprobs=None, message=ChatCompletionMessage(content='The image displayed showcases a resume or CV mockup for a person named Mariana Anderson, who is a Marketing Manager. Here are the key details from the resume:\\n\\n- **Contact Information:**\\n  - Phone: 123-456-7890\\n  - Email: hello@reallygreatsite.com\\n  - Address: 123 Anywhere St., Any City\\n\\n- **Education:**\\n  - 2008 - Enter Your Degree from University/College\\n\\n- **Expertise:**\\n  - UI/UX\\n  - Visual Design\\n  - Wireframes\\n  - Storyboards\\n  - User Flows\\n  - Process Flows\\n\\n- **Languages:**\\n  - English\\n  - Spanish\\n\\n- **Experience:**\\n  - 2019 - 2022: Company Name 1 (123 Anywhere St., Any City)\\n    - Job position unspecified. Descriptions include responsibilities and achievements using placeholder text such as managing projects, innovation in team environments, etc.\\n  - 2017 - 2019: Company Name 1 (123 Anywhere St., Any City)\\n  - 2015 - 2017: Company Name 1 (123 Anywhere St., Any City)\\n\\n- **References:**\\n  - Name Surname - Job position, Company Name\\n  - Contact Details: Phone (123-456-7890) and Email (hello@reallygreatsite.com)\\n\\nThe resume uses placeholder text in certain parts such as job descriptions', role='assistant', function_call=None, tool_calls=None))\n"
     ]
    }
   ],
   "source": [
    "response = client.chat.completions.create(\n",
    "  model=\"gpt-4-turbo\",\n",
    "  messages=[\n",
    "    {\n",
    "      \"role\": \"system\",\n",
    "      \"content\": \"You will provided with an image, the image will be document containing text, it could be text, doc or pdf, You will extract all of the words from the image\"\n",
    "    },\n",
    "    {\n",
    "      \"role\": \"user\",\n",
    "      \"content\": [\n",
    "        {\"type\": \"text\", \"text\": \"What’s in this image?\"},\n",
    "        {\n",
    "          \"type\": \"image_url\",\n",
    "          \"image_url\": {\n",
    "            \"url\": \"https://marketplace.canva.com/EAFRuCp3DcY/1/0/1131w/canva-black-white-minimalist-cv-resume-f5JNR-K5jjw.jpg\",\n",
    "          },\n",
    "        },\n",
    "      ],\n",
    "    }\n",
    "  ],\n",
    "  max_tokens=300,\n",
    ")\n",
    "\n",
    "print(response.choices[0])"
   ]
  },
  {
   "cell_type": "code",
   "execution_count": 18,
   "metadata": {},
   "outputs": [
    {
     "name": "stdout",
     "output_type": "stream",
     "text": [
      "Help on method create in module openai.resources.chat.completions:\n",
      "\n",
      "create(*, messages: 'Iterable[ChatCompletionMessageParam]', model: \"Union[str, Literal[('gpt-4-turbo', 'gpt-4-turbo-2024-04-09', 'gpt-4-0125-preview', 'gpt-4-turbo-preview', 'gpt-4-1106-preview', 'gpt-4-vision-preview', 'gpt-4', 'gpt-4-0314', 'gpt-4-0613', 'gpt-4-32k', 'gpt-4-32k-0314', 'gpt-4-32k-0613', 'gpt-3.5-turbo', 'gpt-3.5-turbo-16k', 'gpt-3.5-turbo-0301', 'gpt-3.5-turbo-0613', 'gpt-3.5-turbo-1106', 'gpt-3.5-turbo-0125', 'gpt-3.5-turbo-16k-0613')]]\", frequency_penalty: 'Optional[float] | NotGiven' = NOT_GIVEN, function_call: 'completion_create_params.FunctionCall | NotGiven' = NOT_GIVEN, functions: 'Iterable[completion_create_params.Function] | NotGiven' = NOT_GIVEN, logit_bias: 'Optional[Dict[str, int]] | NotGiven' = NOT_GIVEN, logprobs: 'Optional[bool] | NotGiven' = NOT_GIVEN, max_tokens: 'Optional[int] | NotGiven' = NOT_GIVEN, n: 'Optional[int] | NotGiven' = NOT_GIVEN, presence_penalty: 'Optional[float] | NotGiven' = NOT_GIVEN, response_format: 'completion_create_params.ResponseFormat | NotGiven' = NOT_GIVEN, seed: 'Optional[int] | NotGiven' = NOT_GIVEN, stop: 'Union[Optional[str], List[str]] | NotGiven' = NOT_GIVEN, stream: 'Optional[Literal[False]] | Literal[True] | NotGiven' = NOT_GIVEN, temperature: 'Optional[float] | NotGiven' = NOT_GIVEN, tool_choice: 'ChatCompletionToolChoiceOptionParam | NotGiven' = NOT_GIVEN, tools: 'Iterable[ChatCompletionToolParam] | NotGiven' = NOT_GIVEN, top_logprobs: 'Optional[int] | NotGiven' = NOT_GIVEN, top_p: 'Optional[float] | NotGiven' = NOT_GIVEN, user: 'str | NotGiven' = NOT_GIVEN, extra_headers: 'Headers | None' = None, extra_query: 'Query | None' = None, extra_body: 'Body | None' = None, timeout: 'float | httpx.Timeout | None | NotGiven' = NOT_GIVEN) -> 'ChatCompletion | Stream[ChatCompletionChunk]' method of openai.resources.chat.completions.Completions instance\n",
      "\n"
     ]
    }
   ],
   "source": [
    "help(client.chat.completions.create)"
   ]
  },
  {
   "cell_type": "code",
   "execution_count": null,
   "metadata": {},
   "outputs": [],
   "source": [
    "Choice(finish_reason='length', index=0, logprobs=None, message=ChatCompletionMessage(content='The image displayed showcases a resume or CV mockup for a person named Mariana Anderson, who is a Marketing Manager. Here are the key details from the resume:\\n\\n- **Contact Information:**\\n  - Phone: 123-456-7890\\n  - Email: hello@reallygreatsite.com\\n  - Address: 123 Anywhere St., Any City\\n\\n- **Education:**\\n  - 2008 - Enter Your Degree from University/College\\n\\n- **Expertise:**\\n  - UI/UX\\n  - Visual Design\\n  - Wireframes\\n  - Storyboards\\n  - User Flows\\n  - Process Flows\\n\\n- **Languages:**\\n  - English\\n  - Spanish\\n\\n- **Experience:**\\n  - 2019 - 2022: Company Name 1 (123 Anywhere St., Any City)\\n    - Job position unspecified. Descriptions include responsibilities and achievements using placeholder text such as managing projects, innovation in team environments, etc.\\n  - 2017 - 2019: Company Name 1 (123 Anywhere St., Any City)\\n  - 2015 - 2017: Company Name 1 (123 Anywhere St., Any City)\\n\\n- **References:**\\n  - Name Surname - Job position, Company Name\\n  - Contact Details: Phone (123-456-7890) and Email (hello@reallygreatsite.com)\\n\\nThe resume uses placeholder text in certain parts such as job descriptions', role='assistant', function_call=None, tool_calls=None))\n"
   ]
  },
  {
   "cell_type": "code",
   "execution_count": 28,
   "metadata": {},
   "outputs": [
    {
     "name": "stdout",
     "output_type": "stream",
     "text": [
      "The image displayed showcases a resume or CV mockup for a person named Mariana Anderson, who is a Marketing Manager. Here are the key details from the resume:\n",
      "\n",
      "- **Contact Information:**\n",
      "  - Phone: 123-456-7890\n",
      "  - Email: hello@reallygreatsite.com\n",
      "  - Address: 123 Anywhere St., Any City\n",
      "\n",
      "- **Education:**\n",
      "  - 2008 - Enter Your Degree from University/College\n",
      "\n",
      "- **Expertise:**\n",
      "  - UI/UX\n",
      "  - Visual Design\n",
      "  - Wireframes\n",
      "  - Storyboards\n",
      "  - User Flows\n",
      "  - Process Flows\n",
      "\n",
      "- **Languages:**\n",
      "  - English\n",
      "  - Spanish\n",
      "\n",
      "- **Experience:**\n",
      "  - 2019 - 2022: Company Name 1 (123 Anywhere St., Any City)\n",
      "    - Job position unspecified. Descriptions include responsibilities and achievements using placeholder text such as managing projects, innovation in team environments, etc.\n",
      "  - 2017 - 2019: Company Name 1 (123 Anywhere St., Any City)\n",
      "  - 2015 - 2017: Company Name 1 (123 Anywhere St., Any City)\n",
      "\n",
      "- **References:**\n",
      "  - Name Surname - Job position, Company Name\n",
      "  - Contact Details: Phone (123-456-7890) and Email (hello@reallygreatsite.com)\n",
      "\n",
      "The resume uses placeholder text in certain parts such as job descriptions\n"
     ]
    }
   ],
   "source": [
    "print(response.choices[0].message.content)\n"
   ]
  },
  {
   "cell_type": "markdown",
   "metadata": {},
   "source": [
    "## Fast API"
   ]
  },
  {
   "cell_type": "code",
   "execution_count": 32,
   "metadata": {},
   "outputs": [],
   "source": [
    "from fastapi import FastAPI\n",
    "import uvicorn"
   ]
  },
  {
   "cell_type": "markdown",
   "metadata": {},
   "source": [
    "## Create FastAPI instance"
   ]
  },
  {
   "cell_type": "code",
   "execution_count": 33,
   "metadata": {},
   "outputs": [],
   "source": [
    "app = FastAPI()"
   ]
  },
  {
   "cell_type": "code",
   "execution_count": 34,
   "metadata": {},
   "outputs": [],
   "source": [
    "@app.get(\"/\")\n",
    "def read_root():\n",
    "    return {\"message\": \"Hello, World\"}"
   ]
  },
  {
   "cell_type": "code",
   "execution_count": null,
   "metadata": {},
   "outputs": [],
   "source": []
  },
  {
   "cell_type": "code",
   "execution_count": null,
   "metadata": {},
   "outputs": [],
   "source": []
  },
  {
   "cell_type": "code",
   "execution_count": null,
   "metadata": {},
   "outputs": [],
   "source": []
  }
 ],
 "metadata": {
  "kernelspec": {
   "display_name": ".venv",
   "language": "python",
   "name": "python3"
  },
  "language_info": {
   "codemirror_mode": {
    "name": "ipython",
    "version": 3
   },
   "file_extension": ".py",
   "mimetype": "text/x-python",
   "name": "python",
   "nbconvert_exporter": "python",
   "pygments_lexer": "ipython3",
   "version": "3.8.10"
  }
 },
 "nbformat": 4,
 "nbformat_minor": 2
}
